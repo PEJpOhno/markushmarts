{
 "cells": [
  {
   "cell_type": "markdown",
   "id": "7b87b996-4b05-4c10-bd4c-e8ea5a7e93d5",
   "metadata": {},
   "source": [
    "Copyright (c) 2024 Mitsuru Ohno  \n",
    "Use of this source code is governed by a BSD-3-style  \n",
    "license that can be found in the LICENSE file.  \n",
    "\n",
    "08/13/2024, M. Ohno  \n",
    "Markush構造から、SMARTS を発生させる構造発生器の機能を有する、Pythonのmarkushmartsの使用例  "
   ]
  },
  {
   "cell_type": "code",
   "execution_count": 1,
   "id": "21ec3e7a-4cf0-453e-b424-91a4e6bc7178",
   "metadata": {},
   "outputs": [],
   "source": [
    "from src import markushmarts"
   ]
  },
  {
   "cell_type": "markdown",
   "id": "65a1145b-c282-4730-a9d1-353d9cbec639",
   "metadata": {},
   "source": [
    "### 1. 改変したい骨格および骨格中の可変置換基候補の記述例  "
   ]
  },
  {
   "cell_type": "code",
   "execution_count": 2,
   "id": "1e854b6e-c95c-4ec7-9843-5e0ecb8a19e1",
   "metadata": {},
   "outputs": [],
   "source": [
    "#改変したい置換基を\"Q<一桁添数>\"で記載した骨格のSMARTSを記述する\n",
    "skelton = '[CX3H2;!R:1]=[CX3;!R:2](Q1)[CX3;!R](=[OX1])[OX2,SX2,NX3:3]Q2'\n",
    "strs = ['[CX3H2;!R:1]=[CX3;!R:2](Q1)[CX3;!R](=[OX1])[OX2,SX2,NX3:3]Q2', '[CX3H0;!R:1]([F])([F])=[CX3;!R:2](Q1)[CX3;!R](=[OX1])[OX2,SX2,NX3:3]Q2']\n",
    "\n",
    "#全ての可変置換基で、候補官能基が同一な場合には、それをリストとして与える。異なる場合には、可変置換基をキー、その候補官能基のリストを値とする辞書で与える\n",
    "Q = ['[H]', '[CX4;H3,H2:10]', '[CX3;!R](=[OX1])[OX2,SX2,NX3:10]', '[CX2]#[NX1]', ]\n",
    "QQ = {'Q1':['[H]', '[CX4;H3,H2:10]', '[CX3;!R](=[OX1])[OX2,SX2,NX3:10]', '[CX2]#[NX1]', ], 'Q2':['[CX3;!R](=[OX1])[OX2,SX2,NX3:10]', '[CX2]#[NX1]', ]}"
   ]
  },
  {
   "cell_type": "markdown",
   "id": "d2215de8-9f08-4763-b12d-b8d5b39034ec",
   "metadata": {},
   "source": [
    "### 2. 骨格 \"skelton\" 中の2か所の可変官能基 \"Q1\", \"Q2\" に、同じ候補置換基 Q を導入していく場合  "
   ]
  },
  {
   "cell_type": "code",
   "execution_count": 3,
   "id": "f65b6ca0-d9df-4ed1-ad41-727f28e6cf2f",
   "metadata": {},
   "outputs": [
    {
     "data": {
      "text/plain": [
       "['[CX3H2;!R:1]=[CX3H1;!R:2][CX3;!R](=[OX1])[OX2H1,SX2H1,NX3H1:3]',\n",
       " '[CX3H2;!R:1]=[CX3H1;!R:2][CX3;!R](=[OX1])[OX2,SX2,NX3:3][CX4;H3,H2:10]',\n",
       " '[CX3H2;!R:1]=[CX3H1;!R:2][CX3;!R](=[OX1])[OX2,SX2,NX3:3][CX3;!R](=[OX1])[OX2,SX2,NX3:10]',\n",
       " '[CX3H2;!R:1]=[CX3H1;!R:2][CX3;!R](=[OX1])[OX2,SX2,NX3:3][CX2]#[NX1]',\n",
       " '[CX3H2;!R:1]=[CX3;!R:2]([CX4;H3,H2:10])[CX3;!R](=[OX1])[OX2H1,SX2H1,NX3H1:3]',\n",
       " '[CX3H2;!R:1]=[CX3;!R:2]([CX4;H3,H2:10])[CX3;!R](=[OX1])[OX2,SX2,NX3:3][CX4;H3,H2:10]',\n",
       " '[CX3H2;!R:1]=[CX3;!R:2]([CX4;H3,H2:10])[CX3;!R](=[OX1])[OX2,SX2,NX3:3][CX3;!R](=[OX1])[OX2,SX2,NX3:10]',\n",
       " '[CX3H2;!R:1]=[CX3;!R:2]([CX4;H3,H2:10])[CX3;!R](=[OX1])[OX2,SX2,NX3:3][CX2]#[NX1]',\n",
       " '[CX3H2;!R:1]=[CX3;!R:2]([CX3;!R](=[OX1])[OX2,SX2,NX3:10])[CX3;!R](=[OX1])[OX2H1,SX2H1,NX3H1:3]',\n",
       " '[CX3H2;!R:1]=[CX3;!R:2]([CX3;!R](=[OX1])[OX2,SX2,NX3:10])[CX3;!R](=[OX1])[OX2,SX2,NX3:3][CX4;H3,H2:10]',\n",
       " '[CX3H2;!R:1]=[CX3;!R:2]([CX3;!R](=[OX1])[OX2,SX2,NX3:10])[CX3;!R](=[OX1])[OX2,SX2,NX3:3][CX3;!R](=[OX1])[OX2,SX2,NX3:10]',\n",
       " '[CX3H2;!R:1]=[CX3;!R:2]([CX3;!R](=[OX1])[OX2,SX2,NX3:10])[CX3;!R](=[OX1])[OX2,SX2,NX3:3][CX2]#[NX1]',\n",
       " '[CX3H2;!R:1]=[CX3;!R:2]([CX2]#[NX1])[CX3;!R](=[OX1])[OX2H1,SX2H1,NX3H1:3]',\n",
       " '[CX3H2;!R:1]=[CX3;!R:2]([CX2]#[NX1])[CX3;!R](=[OX1])[OX2,SX2,NX3:3][CX4;H3,H2:10]',\n",
       " '[CX3H2;!R:1]=[CX3;!R:2]([CX2]#[NX1])[CX3;!R](=[OX1])[OX2,SX2,NX3:3][CX3;!R](=[OX1])[OX2,SX2,NX3:10]',\n",
       " '[CX3H2;!R:1]=[CX3;!R:2]([CX2]#[NX1])[CX3;!R](=[OX1])[OX2,SX2,NX3:3][CX2]#[NX1]']"
      ]
     },
     "execution_count": 3,
     "metadata": {},
     "output_type": "execute_result"
    }
   ],
   "source": [
    "rsl = markushmarts(skelton, Q)\n",
    "rsl"
   ]
  },
  {
   "cell_type": "markdown",
   "id": "5e5ce0e0-24fa-48f2-b9c1-806f430f2037",
   "metadata": {},
   "source": [
    "### 3. 骨格のリスト \"strs\" 中の2か所の可変官能基 \"Q1\", \"Q2\" に、それぞれの候補置換基 QQ を導入していく場合"
   ]
  },
  {
   "cell_type": "code",
   "execution_count": 4,
   "id": "537817ca-021f-4117-9ee0-983d8b40a65a",
   "metadata": {},
   "outputs": [
    {
     "data": {
      "text/plain": [
       "[['[CX3H2;!R:1]=[CX3H1;!R:2][CX3;!R](=[OX1])[OX2,SX2,NX3:3][CX3;!R](=[OX1])[OX2,SX2,NX3:10]',\n",
       "  '[CX3H2;!R:1]=[CX3H1;!R:2][CX3;!R](=[OX1])[OX2,SX2,NX3:3][CX2]#[NX1]',\n",
       "  '[CX3H2;!R:1]=[CX3;!R:2]([CX4;H3,H2:10])[CX3;!R](=[OX1])[OX2,SX2,NX3:3][CX3;!R](=[OX1])[OX2,SX2,NX3:10]',\n",
       "  '[CX3H2;!R:1]=[CX3;!R:2]([CX4;H3,H2:10])[CX3;!R](=[OX1])[OX2,SX2,NX3:3][CX2]#[NX1]',\n",
       "  '[CX3H2;!R:1]=[CX3;!R:2]([CX3;!R](=[OX1])[OX2,SX2,NX3:10])[CX3;!R](=[OX1])[OX2,SX2,NX3:3][CX3;!R](=[OX1])[OX2,SX2,NX3:10]',\n",
       "  '[CX3H2;!R:1]=[CX3;!R:2]([CX3;!R](=[OX1])[OX2,SX2,NX3:10])[CX3;!R](=[OX1])[OX2,SX2,NX3:3][CX2]#[NX1]',\n",
       "  '[CX3H2;!R:1]=[CX3;!R:2]([CX2]#[NX1])[CX3;!R](=[OX1])[OX2,SX2,NX3:3][CX3;!R](=[OX1])[OX2,SX2,NX3:10]',\n",
       "  '[CX3H2;!R:1]=[CX3;!R:2]([CX2]#[NX1])[CX3;!R](=[OX1])[OX2,SX2,NX3:3][CX2]#[NX1]'],\n",
       " ['[CX3H0;!R:1]([F])([F])=[CX3H1;!R:2][CX3;!R](=[OX1])[OX2,SX2,NX3:3][CX3;!R](=[OX1])[OX2,SX2,NX3:10]',\n",
       "  '[CX3H0;!R:1]([F])([F])=[CX3H1;!R:2][CX3;!R](=[OX1])[OX2,SX2,NX3:3][CX2]#[NX1]',\n",
       "  '[CX3H0;!R:1]([F])([F])=[CX3;!R:2]([CX4;H3,H2:10])[CX3;!R](=[OX1])[OX2,SX2,NX3:3][CX3;!R](=[OX1])[OX2,SX2,NX3:10]',\n",
       "  '[CX3H0;!R:1]([F])([F])=[CX3;!R:2]([CX4;H3,H2:10])[CX3;!R](=[OX1])[OX2,SX2,NX3:3][CX2]#[NX1]',\n",
       "  '[CX3H0;!R:1]([F])([F])=[CX3;!R:2]([CX3;!R](=[OX1])[OX2,SX2,NX3:10])[CX3;!R](=[OX1])[OX2,SX2,NX3:3][CX3;!R](=[OX1])[OX2,SX2,NX3:10]',\n",
       "  '[CX3H0;!R:1]([F])([F])=[CX3;!R:2]([CX3;!R](=[OX1])[OX2,SX2,NX3:10])[CX3;!R](=[OX1])[OX2,SX2,NX3:3][CX2]#[NX1]',\n",
       "  '[CX3H0;!R:1]([F])([F])=[CX3;!R:2]([CX2]#[NX1])[CX3;!R](=[OX1])[OX2,SX2,NX3:3][CX3;!R](=[OX1])[OX2,SX2,NX3:10]',\n",
       "  '[CX3H0;!R:1]([F])([F])=[CX3;!R:2]([CX2]#[NX1])[CX3;!R](=[OX1])[OX2,SX2,NX3:3][CX2]#[NX1]']]"
      ]
     },
     "execution_count": 4,
     "metadata": {},
     "output_type": "execute_result"
    }
   ],
   "source": [
    "rsl2 = list(map(lambda x: markushmarts(x, QQ), strs))\n",
    "rsl2"
   ]
  },
  {
   "cell_type": "markdown",
   "id": "d7b7b049-9d9f-48a9-bb69-58d204fb0ae9",
   "metadata": {},
   "source": [
    "### 4. rsl2は出力された構造がネストしたリストのため、可読性向上のため展開  "
   ]
  },
  {
   "cell_type": "code",
   "execution_count": 5,
   "id": "3fbc9553-7639-4d22-8dfd-a56d2fa020dd",
   "metadata": {},
   "outputs": [
    {
     "data": {
      "text/plain": [
       "['[CX3H2;!R:1]=[CX3H1;!R:2][CX3;!R](=[OX1])[OX2,SX2,NX3:3][CX3;!R](=[OX1])[OX2,SX2,NX3:10]',\n",
       " '[CX3H2;!R:1]=[CX3H1;!R:2][CX3;!R](=[OX1])[OX2,SX2,NX3:3][CX2]#[NX1]',\n",
       " '[CX3H2;!R:1]=[CX3;!R:2]([CX4;H3,H2:10])[CX3;!R](=[OX1])[OX2,SX2,NX3:3][CX3;!R](=[OX1])[OX2,SX2,NX3:10]',\n",
       " '[CX3H2;!R:1]=[CX3;!R:2]([CX4;H3,H2:10])[CX3;!R](=[OX1])[OX2,SX2,NX3:3][CX2]#[NX1]',\n",
       " '[CX3H2;!R:1]=[CX3;!R:2]([CX3;!R](=[OX1])[OX2,SX2,NX3:10])[CX3;!R](=[OX1])[OX2,SX2,NX3:3][CX3;!R](=[OX1])[OX2,SX2,NX3:10]',\n",
       " '[CX3H2;!R:1]=[CX3;!R:2]([CX3;!R](=[OX1])[OX2,SX2,NX3:10])[CX3;!R](=[OX1])[OX2,SX2,NX3:3][CX2]#[NX1]',\n",
       " '[CX3H2;!R:1]=[CX3;!R:2]([CX2]#[NX1])[CX3;!R](=[OX1])[OX2,SX2,NX3:3][CX3;!R](=[OX1])[OX2,SX2,NX3:10]',\n",
       " '[CX3H2;!R:1]=[CX3;!R:2]([CX2]#[NX1])[CX3;!R](=[OX1])[OX2,SX2,NX3:3][CX2]#[NX1]',\n",
       " '[CX3H0;!R:1]([F])([F])=[CX3H1;!R:2][CX3;!R](=[OX1])[OX2,SX2,NX3:3][CX3;!R](=[OX1])[OX2,SX2,NX3:10]',\n",
       " '[CX3H0;!R:1]([F])([F])=[CX3H1;!R:2][CX3;!R](=[OX1])[OX2,SX2,NX3:3][CX2]#[NX1]',\n",
       " '[CX3H0;!R:1]([F])([F])=[CX3;!R:2]([CX4;H3,H2:10])[CX3;!R](=[OX1])[OX2,SX2,NX3:3][CX3;!R](=[OX1])[OX2,SX2,NX3:10]',\n",
       " '[CX3H0;!R:1]([F])([F])=[CX3;!R:2]([CX4;H3,H2:10])[CX3;!R](=[OX1])[OX2,SX2,NX3:3][CX2]#[NX1]',\n",
       " '[CX3H0;!R:1]([F])([F])=[CX3;!R:2]([CX3;!R](=[OX1])[OX2,SX2,NX3:10])[CX3;!R](=[OX1])[OX2,SX2,NX3:3][CX3;!R](=[OX1])[OX2,SX2,NX3:10]',\n",
       " '[CX3H0;!R:1]([F])([F])=[CX3;!R:2]([CX3;!R](=[OX1])[OX2,SX2,NX3:10])[CX3;!R](=[OX1])[OX2,SX2,NX3:3][CX2]#[NX1]',\n",
       " '[CX3H0;!R:1]([F])([F])=[CX3;!R:2]([CX2]#[NX1])[CX3;!R](=[OX1])[OX2,SX2,NX3:3][CX3;!R](=[OX1])[OX2,SX2,NX3:10]',\n",
       " '[CX3H0;!R:1]([F])([F])=[CX3;!R:2]([CX2]#[NX1])[CX3;!R](=[OX1])[OX2,SX2,NX3:3][CX2]#[NX1]']"
      ]
     },
     "execution_count": 5,
     "metadata": {},
     "output_type": "execute_result"
    }
   ],
   "source": [
    "rsl3 = [x for y in rsl2 for x in y]\n",
    "rsl3"
   ]
  },
  {
   "cell_type": "code",
   "execution_count": 6,
   "id": "87b21af4-091e-4bb8-b35e-28d1facbdf90",
   "metadata": {},
   "outputs": [],
   "source": [
    "#end"
   ]
  }
 ],
 "metadata": {
  "kernelspec": {
   "display_name": "Python 3 (ipykernel)",
   "language": "python",
   "name": "python3"
  },
  "language_info": {
   "codemirror_mode": {
    "name": "ipython",
    "version": 3
   },
   "file_extension": ".py",
   "mimetype": "text/x-python",
   "name": "python",
   "nbconvert_exporter": "python",
   "pygments_lexer": "ipython3",
   "version": "3.10.13"
  }
 },
 "nbformat": 4,
 "nbformat_minor": 5
}
